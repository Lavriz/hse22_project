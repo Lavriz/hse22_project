{
 "cells": [
  {
   "cell_type": "code",
   "execution_count": 1,
   "metadata": {},
   "outputs": [
    {
     "name": "stdout",
     "output_type": "stream",
     "text": [
      "Running `brew update --auto-update`...\n",
      "\u001b[33mWarning:\u001b[0m proteinortho 6.1.0 is already installed and up-to-date.\n",
      "To reinstall 6.1.0, run:\n",
      "  brew reinstall proteinortho\n"
     ]
    }
   ],
   "source": [
    "!brew install proteinortho"
   ]
  },
  {
   "cell_type": "code",
   "execution_count": 2,
   "metadata": {},
   "outputs": [
    {
     "name": "stdout",
     "output_type": "stream",
     "text": [
      "--2022-06-15 05:33:48--  https://ftp.ncbi.nlm.nih.gov/genomes/all/GCA/000/002/445/GCA_000002445.1_ASM244v1/GCA_000002445.1_ASM244v1_protein.faa.gz\n",
      "Resolving ftp.ncbi.nlm.nih.gov (ftp.ncbi.nlm.nih.gov)... 165.112.9.230, 165.112.9.229\n",
      "Connecting to ftp.ncbi.nlm.nih.gov (ftp.ncbi.nlm.nih.gov)|165.112.9.230|:443... connected.\n",
      "HTTP request sent, awaiting response... 200 OK\n",
      "Length: 2609220 (2,5M) [application/x-gzip]\n",
      "Saving to: ‘protein.GCA_000002445.faa.gz’\n",
      "\n",
      "protein.GCA_0000024 100%[===================>]   2,49M  1,87MB/s    in 1,3s    \n",
      "\n",
      "2022-06-15 05:33:50 (1,87 MB/s) - ‘protein.GCA_000002445.faa.gz’ saved [2609220/2609220]\n",
      "\n",
      "--2022-06-15 05:33:50--  https://ftp.ncbi.nlm.nih.gov/genomes/all/GCA/000/691/245/GCA_000691245.1_Tgr_V1/GCA_000691245.1_Tgr_V1_protein.faa.gz\n",
      "Resolving ftp.ncbi.nlm.nih.gov (ftp.ncbi.nlm.nih.gov)... 165.112.9.229, 165.112.9.230\n",
      "Connecting to ftp.ncbi.nlm.nih.gov (ftp.ncbi.nlm.nih.gov)|165.112.9.229|:443... connected.\n",
      "HTTP request sent, awaiting response... 200 OK\n",
      "Length: 2934145 (2,8M) [application/x-gzip]\n",
      "Saving to: ‘protein.GCA_000691245.faa.gz’\n",
      "\n",
      "protein.GCA_0006912 100%[===================>]   2,80M  2,06MB/s    in 1,4s    \n",
      "\n",
      "2022-06-15 05:33:52 (2,06 MB/s) - ‘protein.GCA_000691245.faa.gz’ saved [2934145/2934145]\n",
      "\n",
      "--2022-06-15 05:33:52--  https://ftp.ncbi.nlm.nih.gov/genomes/all/GCA/001/457/755/GCA_001457755.2_Trypanosoma_equiperdum_OVI_V2/GCA_001457755.2_Trypanosoma_equiperdum_OVI_V2_protein.faa.gz\n",
      "Resolving ftp.ncbi.nlm.nih.gov (ftp.ncbi.nlm.nih.gov)... 165.112.9.230, 165.112.9.229\n",
      "Connecting to ftp.ncbi.nlm.nih.gov (ftp.ncbi.nlm.nih.gov)|165.112.9.230|:443... connected.\n",
      "HTTP request sent, awaiting response... 200 OK\n",
      "Length: 2449900 (2,3M) [application/x-gzip]\n",
      "Saving to: ‘protein.GCA_001457755.faa.gz’\n",
      "\n",
      "protein.GCA_0014577 100%[===================>]   2,34M  1,90MB/s    in 1,2s    \n",
      "\n",
      "2022-06-15 05:33:54 (1,90 MB/s) - ‘protein.GCA_001457755.faa.gz’ saved [2449900/2449900]\n",
      "\n",
      "--2022-06-15 05:33:54--  https://ftp.ncbi.nlm.nih.gov/genomes/all/GCA/003/719/475/GCA_003719475.1_ASM371947v1/GCA_003719475.1_ASM371947v1_protein.faa.gz\n",
      "Resolving ftp.ncbi.nlm.nih.gov (ftp.ncbi.nlm.nih.gov)... 165.112.9.230, 165.112.9.229\n",
      "Connecting to ftp.ncbi.nlm.nih.gov (ftp.ncbi.nlm.nih.gov)|165.112.9.230|:443... connected.\n",
      "HTTP request sent, awaiting response... 200 OK\n",
      "Length: 2853058 (2,7M) [application/x-gzip]\n",
      "Saving to: ‘protein.GCA_003719475.faa.gz’\n",
      "\n",
      "protein.GCA_0037194 100%[===================>]   2,72M  2,05MB/s    in 1,3s    \n",
      "\n",
      "2022-06-15 05:33:56 (2,05 MB/s) - ‘protein.GCA_003719475.faa.gz’ saved [2853058/2853058]\n",
      "\n",
      "--2022-06-15 05:33:56--  https://ftp.ncbi.nlm.nih.gov/genomes/all/GCA/003/719/485/GCA_003719485.1_ASM371948v1/GCA_003719485.1_ASM371948v1_protein.faa.gz\n",
      "Resolving ftp.ncbi.nlm.nih.gov (ftp.ncbi.nlm.nih.gov)... 165.112.9.230, 165.112.9.229\n",
      "Connecting to ftp.ncbi.nlm.nih.gov (ftp.ncbi.nlm.nih.gov)|165.112.9.230|:443... connected.\n",
      "HTTP request sent, awaiting response... 200 OK\n",
      "Length: 2976688 (2,8M) [application/x-gzip]\n",
      "Saving to: ‘protein.GCA_003719485.faa.gz’\n",
      "\n",
      "protein.GCA_0037194 100%[===================>]   2,84M  1,97MB/s    in 1,4s    \n",
      "\n",
      "2022-06-15 05:33:58 (1,97 MB/s) - ‘protein.GCA_003719485.faa.gz’ saved [2976688/2976688]\n",
      "\n"
     ]
    }
   ],
   "source": [
    "! wget -O protein.GCA_000002445.faa.gz 'https://ftp.ncbi.nlm.nih.gov/genomes/all/GCA/000/002/445/GCA_000002445.1_ASM244v1/GCA_000002445.1_ASM244v1_protein.faa.gz'\n",
    "! wget -O protein.GCA_000691245.faa.gz 'https://ftp.ncbi.nlm.nih.gov/genomes/all/GCA/000/691/245/GCA_000691245.1_Tgr_V1/GCA_000691245.1_Tgr_V1_protein.faa.gz'\n",
    "! wget -O protein.GCA_001457755.faa.gz 'https://ftp.ncbi.nlm.nih.gov/genomes/all/GCA/001/457/755/GCA_001457755.2_Trypanosoma_equiperdum_OVI_V2/GCA_001457755.2_Trypanosoma_equiperdum_OVI_V2_protein.faa.gz'\n",
    "! wget -O protein.GCA_003719475.faa.gz 'https://ftp.ncbi.nlm.nih.gov/genomes/all/GCA/003/719/475/GCA_003719475.1_ASM371947v1/GCA_003719475.1_ASM371947v1_protein.faa.gz'\n",
    "! wget -O protein.GCA_003719485.faa.gz 'https://ftp.ncbi.nlm.nih.gov/genomes/all/GCA/003/719/485/GCA_003719485.1_ASM371948v1/GCA_003719485.1_ASM371948v1_protein.faa.gz'"
   ]
  },
  {
   "cell_type": "code",
   "execution_count": 3,
   "metadata": {},
   "outputs": [
    {
     "name": "stdout",
     "output_type": "stream",
     "text": [
      "protein.GCA_000002445.faa already exists -- do you wish to overwrite (y or n)? ^C\n",
      "protein.GCA_000691245.faa already exists -- do you wish to overwrite (y or n)? ^C\n",
      "protein.GCA_001457755.faa already exists -- do you wish to overwrite (y or n)? ^C\n",
      "protein.GCA_003719475.faa already exists -- do you wish to overwrite (y or n)? ^C\n",
      "protein.GCA_003719485.faa already exists -- do you wish to overwrite (y or n)? ^C\n"
     ]
    }
   ],
   "source": [
    "!gzip -d protein.GCA_000002445.faa.gz\n",
    "!gzip -d protein.GCA_000691245.faa.gz\n",
    "!gzip -d protein.GCA_001457755.faa.gz\n",
    "!gzip -d protein.GCA_003719475.faa.gz\n",
    "!gzip -d protein.GCA_003719485.faa.gz"
   ]
  },
  {
   "cell_type": "code",
   "execution_count": 4,
   "metadata": {},
   "outputs": [
    {
     "name": "stdout",
     "output_type": "stream",
     "text": [
      "*****************************************************************\n",
      "\u001b[1;32mProteinortho\u001b[0m with PoFF version 6.1.0 - An orthology detection tool\n",
      "*****************************************************************\n",
      "Using 8 CPU threads, Detected 'diamond' version 2.0.15\n",
      "Checking input files.\n",
      "Checking protein.GCA_000002445.faa... ok\n",
      "Checking protein.GCA_000691245.faa... ok\n",
      "Checking protein.GCA_001457755.faa... ok\n",
      "Checking protein.GCA_003719475.faa... ok\n",
      "Checking protein.GCA_003719485.faa... ok\n",
      "\n",
      "\u001b[1;32m**Step 1**\u001b[0m\n",
      "Generating indices.\n",
      "The database for 'protein.GCA_000691245.faa' is present and will be used\n",
      "The database for 'protein.GCA_003719485.faa' is present and will be used\n",
      "The database for 'protein.GCA_003719475.faa' is present and will be used\n",
      "The database for 'protein.GCA_000002445.faa' is present and will be used\n",
      "The database for 'protein.GCA_001457755.faa' is present and will be used\n",
      "\n",
      "\u001b[1;32m**Step 2**\u001b[0m using diamond \n",
      "Running blast analysis: 100% (10/10)                                           \n",
      "[OUTPUT] -> written to myproject.blast-graph\n",
      "\n",
      "\u001b[1;32m**Step 3**\u001b[0m\n",
      "Clustering by similarity (Proteinortho mode) using up to 16384 MB of memory (default value, command 'free' not found) and 8 cpu core(s). Please wait...\n",
      "[OUTPUT] -> Orthologous groups are written to myproject.proteinortho.tsv\n",
      "You can extract the fasta files of each orthology group with\n",
      "proteinortho_grab_proteins.pl -tofiles myproject.proteinortho.tsv 'protein.GCA_000691245.faa' 'protein.GCA_003719485.faa' 'protein.GCA_003719475.faa' 'protein.GCA_000002445.faa' 'protein.GCA_001457755.faa'\n",
      " (Careful: This will generate a file foreach line in the file myproject.proteinortho.tsv).\n",
      "[OUTPUT] -> Orthologous pairs are written to myproject.proteinortho-graph\n",
      "# myproject.proteinortho.tsv statistics:\n",
      "# species-antipercentile (groups that contains at least p% species):\n",
      "# p\tspecies\tgroups\tgenes in groups\n",
      "0%\t0\t9116 (100%)\t37898 (100%)\t\n",
      "20%\t1\t9116 (100%)\t37898 (100%)\t\n",
      "40%\t2\t9082 (99.62%)\t37864 (99.91%)\t\n",
      "60%\t3\t7484 (82.09%)\t34489 (91%)\t\n",
      "80%\t4\t6265 (68.72%)\t30708 (81.02%)\t\n",
      "100%\t5\t5130 (56.27%)\t25991 (68.58%)\t\n",
      "# NOTE: p=100% correspond to the core proteome and p=0% to all groups\n",
      "# groups that contains only one species:\n",
      "single\t5\t34 (0.37%)\t34 (0.08%)\t\n",
      "# number of groups for each input species:\n",
      "protein.GCA_003719485.faa\t7980\t87.53%\n",
      "protein.GCA_003719475.faa\t7620\t83.58%\n",
      "protein.GCA_000691245.faa\t7385\t81.01%\n",
      "protein.GCA_000002445.faa\t7208\t79.06%\n",
      "protein.GCA_001457755.faa\t6884\t75.51%\n",
      "\n",
      "[OUTPUT] -> Summary is written to myproject.proteinortho-graph.summary\n",
      "[OUTPUT] -> Orthologous groups are written to myproject.proteinortho.html\n",
      "[OUTPUT] -> You can extract an OrthoXML (v0.3) version of the orthology group output using:\n",
      "proteinortho2xml.pl myproject.proteinortho.tsv >myproject.proteinortho.tsv.xml\n",
      "\n",
      "\n",
      "\u001b[1;32mAll finished.\u001b[0m\n"
     ]
    }
   ],
   "source": [
    "!proteinortho  -cpus=8 protein.GCA_000002445.faa protein.GCA_000691245.faa protein.GCA_001457755.faa protein.GCA_003719475.faa protein.GCA_003719485.faa"
   ]
  },
  {
   "cell_type": "code",
   "execution_count": 5,
   "metadata": {},
   "outputs": [
    {
     "name": "stdout",
     "output_type": "stream",
     "text": [
      "# Species\tGenes\tAlg.-Conn.\tprotein.GCA_000002445.faa\tprotein.GCA_000691245.faa\tprotein.GCA_001457755.faa\tprotein.GCA_003719475.faa\tprotein.GCA_003719485.faa\r\n",
      "5\t15\t0.222\tEAN77586.1,EAN79491.1,AAZ12212.1\tKEG11596.1,KEG12788.1\tSCU67005.1,SCU66383.1\tRNF04842.1,RNF09464.1,RNF12427.1,RNF02295.1\tRNF26489.1,RNF27270.1,RNF15259.1,RNF13724.1\r\n",
      "5\t15\t0.213\tAAZ11659.1,AAZ11660.1,AAZ11661.1,AAZ11662.1,AAZ11663.1,AAZ11664.1,AAZ11665.1,AAZ11666.1,AAZ11667.1,AAZ11668.1,AAZ11669.1\tKEG05488.1\tSCU71713.1\tRNF09092.1\tRNF26334.1\r\n",
      "5\t14\t0.112\tAAZ12929.1,AAZ12930.1,AAZ12931.1,AAZ12932.1\tKEG06672.1,KEG09032.1,KEG09031.1\tSCU73045.1\tRNE98457.1,RNE95143.1,RNE96538.1,RNF03126.1\tRNF03851.1,RNF15776.1\r\n",
      "5\t13\t0.272\tAAZ12042.1,AAZ12043.1,AAZ12044.1,AAZ12045.1,AAZ12046.1,AAZ12047.1,AAZ12048.1,AAZ12049.1,AAZ12050.1\tKEG15474.1\tSCU66677.1\tRNF06643.1\tRNE95575.1\r\n",
      "5\t12\t0.256\tAAZ12177.1,AAZ12178.1,AAZ12179.1\tKEG12509.1,KEG12511.1\tSCU67226.1\tRNF06857.1,RNF06858.1,RNF06859.1\tRNF26107.1,RNF26108.1,RNF26106.1\r\n",
      "5\t12\t0.239\tAAZ12197.1,AAZ12199.1\tKEG06538.1\tSCU71931.1\tRNE99681.1,RNE99684.1,RNE99685.1,RNF00683.1,RNE99682.1,RNF00685.1\tRNE95515.1,RNE96185.1\r\n",
      "5\t11\t0.564\tEAN80533.1,EAN80535.1\tKEG11017.1,KEG11021.1\tSCU67019.1\tRNF10940.1,RNF10941.1,RNF10943.1,RNF10944.1\tRNF25878.1,RNF25880.1\r\n",
      "5\t10\t0.693\tAAZ10469.1,EAN79576.1\tKEG05761.1,KEG13807.1\tSCU64272.1,SCU66465.1\tRNF06987.1,RNF08071.1\tRNE99795.1,RNF25653.1\r\n",
      "5\t10\t0.685\tAAZ10172.1,EAN77709.1\tKEG09402.1,KEG15656.1\tSCU69918.1,SCU72541.1\tRNF04208.1,RNF11741.1\tRNF09221.1,RNF24646.1\r\n"
     ]
    }
   ],
   "source": [
    "!head myproject.proteinortho.tsv"
   ]
  }
 ],
 "metadata": {
  "kernelspec": {
   "display_name": "Python 3",
   "language": "python",
   "name": "python3"
  },
  "language_info": {
   "codemirror_mode": {
    "name": "ipython",
    "version": 3
   },
   "file_extension": ".py",
   "mimetype": "text/x-python",
   "name": "python",
   "nbconvert_exporter": "python",
   "pygments_lexer": "ipython3",
   "version": "3.8.2"
  }
 },
 "nbformat": 4,
 "nbformat_minor": 4
}
